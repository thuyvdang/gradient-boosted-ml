{
 "cells": [
  {
   "cell_type": "code",
   "execution_count": null,
   "metadata": {},
   "outputs": [],
   "source": [
    "import sklearn.model_selection\n",
    "from sklearn.tree import DecisionTreeClassifier\n",
    "from sklearn.metrics import accuracy_score, classification_report\n",
    "import pandas as pd\n",
    "import numpy as np\n",
    "dataset = dataset.drop(columns=['Predicted'])\n",
    "cat_columns = ['cat_feature1','cat_feature2','cat_feature3','cat_feature4','cat_feature5']\n",
    "target_name = 'target'\n",
    "dataset_encoded = pd.get_dummies(dataset, columns= cat_columns)\n",
    "X_train = dataset_encoded.drop(columns = target_name)\n",
    "y_train = dataset_encoded[target_name]\n",
    "class xgb_algorithm:\n",
    "    def __init__(self, n_estimator, max_Tree_depth, learning_rate) -> None:\n",
    "        self.n_estimators = n_estimator\n",
    "        self.max_depth = max_Tree_depth\n",
    "        self.learning_rate = learning_rate\n",
    "        self.trees = []\n",
    "    def fit(self, X, y):\n",
    "        self.init_pred = np.mean(y)\n",
    "        y_pred = np.full_like(y, self.init_pred)\n",
    "        #X_train, X_test, y_train, y_test = sklearn.model_selection.train_test_split(dataset.drop(columns =target_name), dataset[target_name], test_size=0.25, random_state=42)\n",
    "        for i in range(self.n_estimators):\n",
    "            print('Building tree number: ', i)\n",
    "            y_train = dataset_encoded[target_name] - y_pred\n",
    "            # Initialize the Decision Tree classifier\n",
    "            clf = DecisionTreeClassifier(random_state = 42, max_depth= self.max_depth)\n",
    "            # Train the classifier on the training data\n",
    "            clf.fit(X_train, y_train)\n",
    "            # Make predictions on the testing data\n",
    "            y_pred = clf.predict_proba(X_train)\n"
   ]
  }
 ],
 "metadata": {
  "language_info": {
   "name": "python"
  }
 },
 "nbformat": 4,
 "nbformat_minor": 2
}
